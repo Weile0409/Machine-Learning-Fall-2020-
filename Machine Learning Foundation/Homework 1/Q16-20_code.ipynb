{
 "cells": [
  {
   "cell_type": "code",
   "execution_count": 9,
   "metadata": {},
   "outputs": [],
   "source": [
    "import numpy as np\n",
    "import pandas as pd\n",
    "import random"
   ]
  },
  {
   "cell_type": "code",
   "execution_count": 10,
   "metadata": {},
   "outputs": [],
   "source": [
    "dat_file = r'C://Users//USER//Desktop//hw1_train.dat.txt'\n",
    "with open(dat_file, 'r') as f:\n",
    "    text = f.read()\n",
    "    \n",
    "data = text.split() #split string into a list\n",
    "\n",
    "D = []\n",
    "for i in range(100):\n",
    "    K = list(data[i*11:(i+1)*11])\n",
    "    D.append(K)\n",
    "    \n",
    "for i in range(len(D)):\n",
    "    for j in range(len(D[0])):\n",
    "        D[i][j] = float(D[i][j])"
   ]
  },
  {
   "cell_type": "code",
   "execution_count": 11,
   "metadata": {},
   "outputs": [],
   "source": [
    "def h(x):\n",
    "    h = np.array(W).dot(x)\n",
    "    if h>0:  h = 1\n",
    "    else:    h = -1\n",
    "    return h"
   ]
  },
  {
   "cell_type": "code",
   "execution_count": 12,
   "metadata": {},
   "outputs": [
    {
     "name": "stdout",
     "output_type": "stream",
     "text": [
      "11.0\n",
      "THE ANSWER OF Question_16 IS (b) 11 \n",
      "\n",
      "-7.0\n",
      "THE ANSWER OF Question_17 IS (b) -5 \n"
     ]
    }
   ],
   "source": [
    "X = []\n",
    "for i in range(len(D)):\n",
    "    X.append([1.0] + D[i])  # xi = [x0, x1, ..., x10]\n",
    "    \n",
    "IND_REPEAT = 0\n",
    "REPEAT = []\n",
    "W0_Record = []\n",
    "\n",
    "while IND_REPEAT != 1000:\n",
    "    W = [0]*11    # initialize\n",
    "    R = random.choice(X)\n",
    "    xi, yi = R[0:11], R[-1]\n",
    "    N = 100\n",
    "    t=0\n",
    "    i=0\n",
    "    while t != 5*N :\n",
    "        if h(xi) != yi :\n",
    "            W = [W[j]+xi[j]*yi for j in range(len(xi))]  # update\n",
    "            R = random.choice(X)\n",
    "            xi = R[0:11]\n",
    "            yi = R[-1]\n",
    "            i += 1\n",
    "            t = 0\n",
    "        else :\n",
    "            R = random.choice(X)\n",
    "            xi = R[0:11]\n",
    "            yi = R[-1]\n",
    "            t += 1\n",
    "    wPLA = W\n",
    "    W0_Record.append(wPLA[0])\n",
    "    REPEAT.append(i)\n",
    "    IND_REPEAT += 1\n",
    "\n",
    "# 16\n",
    "print(np.median(REPEAT))\n",
    "print('THE ANSWER OF Question_16 IS (b) 11 \\n')\n",
    "\n",
    "# 17\n",
    "print(np.median(W0_Record))\n",
    "print('THE ANSWER OF Question_17 IS (b) -5 ')"
   ]
  },
  {
   "cell_type": "code",
   "execution_count": 13,
   "metadata": {},
   "outputs": [
    {
     "name": "stdout",
     "output_type": "stream",
     "text": [
      "15.0\n",
      "THE ANSWER OF Question_18 IS (c) 14\n"
     ]
    }
   ],
   "source": [
    "# 18\n",
    "X_ = []\n",
    "for i in range(len(D)):\n",
    "    X_.append([10.0] + D[i])  # xi = [x0, x1, ..., x10]\n",
    "IND_REPEAT = 0\n",
    "REPEAT = []\n",
    "W0_Record = []\n",
    "\n",
    "while IND_REPEAT != 1000:\n",
    "    W = [0]*11    # initialize\n",
    "    R = random.choice(X_)\n",
    "    xi, yi = R[0:11], R[-1]\n",
    "    N = 100\n",
    "    t=0\n",
    "    i=0\n",
    "    while t != 5*N :\n",
    "        if h(xi) != yi :\n",
    "            W = [W[j]+xi[j]*yi for j in range(len(xi))]  # update\n",
    "            R = random.choice(X_)\n",
    "            xi = R[0:11]\n",
    "            yi = R[-1]\n",
    "            i += 1\n",
    "            t = 0\n",
    "        else :\n",
    "            R = random.choice(X_)\n",
    "            xi = R[0:11]\n",
    "            yi = R[-1]\n",
    "            t += 1\n",
    "    wPLA = W\n",
    "    W0_Record.append(wPLA[0])\n",
    "    REPEAT.append(i)\n",
    "    IND_REPEAT += 1\n",
    "    \n",
    "print(np.median(REPEAT))\n",
    "print('THE ANSWER OF Question_18 IS (c) 14')"
   ]
  },
  {
   "cell_type": "code",
   "execution_count": 14,
   "metadata": {},
   "outputs": [
    {
     "name": "stdout",
     "output_type": "stream",
     "text": [
      "17.0\n",
      "THE ANSWER OF Question_19 IS (d) 17\n"
     ]
    }
   ],
   "source": [
    "# 19\n",
    "X_ = []\n",
    "for i in range(len(D)):\n",
    "    X_.append([0.0] + D[i])  # xi = [x0, x1, ..., x10]\n",
    "IND_REPEAT = 0\n",
    "REPEAT = []\n",
    "W0_Record = []\n",
    "\n",
    "while IND_REPEAT != 1000:\n",
    "    W = [0]*11    # initialize\n",
    "    R = random.choice(X_)\n",
    "    xi, yi = R[0:11], R[-1]\n",
    "    N = 100\n",
    "    t=0\n",
    "    i=0\n",
    "    while t != 5*N :\n",
    "        if h(xi) != yi :\n",
    "            W = [W[j]+xi[j]*yi for j in range(len(xi))]  # update\n",
    "            R = random.choice(X_)\n",
    "            xi = R[0:11]\n",
    "            yi = R[-1]\n",
    "            i += 1\n",
    "            t = 0\n",
    "        else :\n",
    "            R = random.choice(X_)\n",
    "            xi = R[0:11]\n",
    "            yi = R[-1]\n",
    "            t += 1\n",
    "    wPLA = W\n",
    "    W0_Record.append(wPLA[0])\n",
    "    REPEAT.append(i)\n",
    "    IND_REPEAT += 1\n",
    "    \n",
    "print(np.median(REPEAT))\n",
    "print('THE ANSWER OF Question_19 IS (d) 17')"
   ]
  },
  {
   "cell_type": "code",
   "execution_count": 15,
   "metadata": {},
   "outputs": [
    {
     "name": "stdout",
     "output_type": "stream",
     "text": [
      "17.0\n",
      "THE ANSWER OF Question_20 IS (d) 17\n"
     ]
    }
   ],
   "source": [
    "#20\n",
    "X_ = []\n",
    "for i in range(len(D)):\n",
    "    X_.append([0.0] + D[i])  # xi = [x0, x1, ..., x10] / 4\n",
    "IND_REPEAT = 0\n",
    "REPEAT = []\n",
    "W0_Record = []\n",
    "\n",
    "while IND_REPEAT != 1000:\n",
    "    W = [0]*11    # initialize\n",
    "    R = random.choice(X_)\n",
    "    xi, yi = R[0:11], R[-1]\n",
    "    xi = [k/4 for k in xi]\n",
    "    N = 100\n",
    "    t=0\n",
    "    i=0\n",
    "    while t != 5*N :\n",
    "        if h(xi) != yi :\n",
    "            W = [W[j]+xi[j]*yi for j in range(len(xi))]  # update\n",
    "            R = random.choice(X_)\n",
    "            xi,yi = R[0:11], R[-1]\n",
    "            xi = [k/4 for k in xi]\n",
    "            i += 1\n",
    "            t = 0\n",
    "        else :\n",
    "            R = random.choice(X_)\n",
    "            xi,yi = R[0:11], R[-1]\n",
    "            xi = [k/4 for k in xi]\n",
    "            t += 1\n",
    "    wPLA = W\n",
    "    W0_Record.append(wPLA[0])\n",
    "    REPEAT.append(i)\n",
    "    IND_REPEAT += 1\n",
    "    \n",
    "print(np.median(REPEAT))\n",
    "print('THE ANSWER OF Question_20 IS (d) 17')"
   ]
  },
  {
   "cell_type": "code",
   "execution_count": null,
   "metadata": {},
   "outputs": [],
   "source": []
  }
 ],
 "metadata": {
  "kernelspec": {
   "display_name": "Python 3",
   "language": "python",
   "name": "python3"
  },
  "language_info": {
   "codemirror_mode": {
    "name": "ipython",
    "version": 3
   },
   "file_extension": ".py",
   "mimetype": "text/x-python",
   "name": "python",
   "nbconvert_exporter": "python",
   "pygments_lexer": "ipython3",
   "version": "3.7.6"
  }
 },
 "nbformat": 4,
 "nbformat_minor": 4
}
